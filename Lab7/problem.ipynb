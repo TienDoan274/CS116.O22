{
 "cells": [
  {
   "cell_type": "markdown",
   "metadata": {
    "id": "IA1Z2pPkgNkT"
   },
   "source": [
    "<h1><b>Những mô hình hồi quy (regression) và phương pháp đánh giá (metrics)"
   ]
  },
  {
   "cell_type": "markdown",
   "metadata": {
    "id": "1HJluCPWkckj"
   },
   "source": [
    "Trong lĩnh vực machine learning, các mô hình máy học đóng vai trò cốt lõi nên việc xây dựng và sử dụng các mô hình máy học là một phần kiến thức quan trọng. Một trong những nhiệm vụ quan trọng của học máy là mô hình hóa các mối quan hệ tuyến tính trong dữ liệu. Trong bài tập này, chúng ta sẽ tập trung vào bài toán hồi quy, một phần quan trọng của machine learning, để dự đoán một biến mục tiêu dựa trên các biến khác.\n",
    "\n",
    "Trong bài tập này, chúng ta sẽ đào sâu vào các bước cơ bản của việc xây dựng và đánh giá mô hình. Chúng ta sẽ trải nghiệm chúng thông qua một bài tập với các nhiệm vụ chính như:\n",
    "\n",
    "* Xây dựng bộ dự liệu\n",
    "* Huấn luyện mô hình\n",
    "* Đánh giá mô hình\n",
    "\n",
    "Khi bạn hoàn thành bài tập này, bạn sẽ có hiểu biết thực tế về việc sử dụng Python và thư viện machine learning để giải quyết bài toán hồi quy. Kỹ năng này là quan trọng trong việc xây dựng các ứng dụng dự đoán và phân tích dữ liệu trong nhiều lĩnh vực khác nhau."
   ]
  },
  {
   "cell_type": "markdown",
   "metadata": {
    "id": "rlJxMG15gNkY"
   },
   "source": [
    "Ta cần import những thư viện cần thiết"
   ]
  },
  {
   "cell_type": "code",
   "execution_count": 1,
   "metadata": {
    "id": "dWLxjZS5gNkY"
   },
   "outputs": [],
   "source": [
    "import numpy as np\n",
    "import pandas as pd\n",
    "\n",
    "from sklearn.linear_model import LinearRegression\n",
    "from sklearn.svm import SVR\n",
    "from sklearn.neighbors import KNeighborsRegressor\n",
    "from sklearn.tree import DecisionTreeRegressor\n",
    "\n",
    "from sklearn.preprocessing import MinMaxScaler\n",
    "\n",
    "from sklearn.metrics import mean_squared_error\n",
    "from sklearn.metrics import mean_absolute_error\n",
    "np.random.seed(0)"
   ]
  },
  {
   "cell_type": "markdown",
   "metadata": {
    "id": "L_BJhs5dvF7c"
   },
   "source": [
    "Ở đây ta sẽ tìm hiểu về những mô hình regression như: Linear Regression, Decision Tree Regressor, SVR, KNeighbors Regressor"
   ]
  },
  {
   "cell_type": "markdown",
   "metadata": {
    "id": "l-W53hDLu_JS"
   },
   "source": [
    "### 1. Chuẩn bị dữ liệu dữ liệu"
   ]
  },
  {
   "cell_type": "markdown",
   "metadata": {
    "id": "NpLoy54YgNka"
   },
   "source": [
    "Đầu tiên ta cần đọc dữ liệu từ file csv `USA_Housing.csv` bằng `pandas` như những bài trước và gán vào biến `df`"
   ]
  },
  {
   "cell_type": "code",
   "execution_count": 4,
   "metadata": {
    "id": "LpIFRPvegNkb"
   },
   "outputs": [],
   "source": [
    "df = pd.read_csv('./data/USA_Housing.csv')"
   ]
  },
  {
   "cell_type": "markdown",
   "metadata": {
    "id": "cNJ3nXg3s5_r"
   },
   "source": [
    "Kiểm tra một số giá trị của df"
   ]
  },
  {
   "cell_type": "code",
   "execution_count": 5,
   "metadata": {
    "colab": {
     "base_uri": "https://localhost:8080/",
     "height": 206
    },
    "id": "XdWyC_HdgNkb",
    "outputId": "b6897874-473c-4712-bc26-eca678870abc"
   },
   "outputs": [
    {
     "data": {
      "text/html": [
       "<div>\n",
       "<style scoped>\n",
       "    .dataframe tbody tr th:only-of-type {\n",
       "        vertical-align: middle;\n",
       "    }\n",
       "\n",
       "    .dataframe tbody tr th {\n",
       "        vertical-align: top;\n",
       "    }\n",
       "\n",
       "    .dataframe thead th {\n",
       "        text-align: right;\n",
       "    }\n",
       "</style>\n",
       "<table border=\"1\" class=\"dataframe\">\n",
       "  <thead>\n",
       "    <tr style=\"text-align: right;\">\n",
       "      <th></th>\n",
       "      <th>Avg. Area Income</th>\n",
       "      <th>Avg. Area House Age</th>\n",
       "      <th>Avg. Area Number of Rooms</th>\n",
       "      <th>Avg. Area Number of Bedrooms</th>\n",
       "      <th>Area Population</th>\n",
       "      <th>Price</th>\n",
       "      <th>Address</th>\n",
       "    </tr>\n",
       "  </thead>\n",
       "  <tbody>\n",
       "    <tr>\n",
       "      <th>0</th>\n",
       "      <td>79545.458574</td>\n",
       "      <td>5.682861</td>\n",
       "      <td>7.009188</td>\n",
       "      <td>4.09</td>\n",
       "      <td>23086.800503</td>\n",
       "      <td>1.059034e+06</td>\n",
       "      <td>208 Michael Ferry Apt. 674\\nLaurabury, NE 3701...</td>\n",
       "    </tr>\n",
       "    <tr>\n",
       "      <th>1</th>\n",
       "      <td>79248.642455</td>\n",
       "      <td>6.002900</td>\n",
       "      <td>6.730821</td>\n",
       "      <td>3.09</td>\n",
       "      <td>40173.072174</td>\n",
       "      <td>1.505891e+06</td>\n",
       "      <td>188 Johnson Views Suite 079\\nLake Kathleen, CA...</td>\n",
       "    </tr>\n",
       "    <tr>\n",
       "      <th>2</th>\n",
       "      <td>61287.067179</td>\n",
       "      <td>5.865890</td>\n",
       "      <td>8.512727</td>\n",
       "      <td>5.13</td>\n",
       "      <td>36882.159400</td>\n",
       "      <td>1.058988e+06</td>\n",
       "      <td>9127 Elizabeth Stravenue\\nDanieltown, WI 06482...</td>\n",
       "    </tr>\n",
       "    <tr>\n",
       "      <th>3</th>\n",
       "      <td>63345.240046</td>\n",
       "      <td>7.188236</td>\n",
       "      <td>5.586729</td>\n",
       "      <td>3.26</td>\n",
       "      <td>34310.242831</td>\n",
       "      <td>1.260617e+06</td>\n",
       "      <td>USS Barnett\\nFPO AP 44820</td>\n",
       "    </tr>\n",
       "    <tr>\n",
       "      <th>4</th>\n",
       "      <td>59982.197226</td>\n",
       "      <td>5.040555</td>\n",
       "      <td>7.839388</td>\n",
       "      <td>4.23</td>\n",
       "      <td>26354.109472</td>\n",
       "      <td>6.309435e+05</td>\n",
       "      <td>USNS Raymond\\nFPO AE 09386</td>\n",
       "    </tr>\n",
       "  </tbody>\n",
       "</table>\n",
       "</div>"
      ],
      "text/plain": [
       "   Avg. Area Income  Avg. Area House Age  Avg. Area Number of Rooms  \\\n",
       "0      79545.458574             5.682861                   7.009188   \n",
       "1      79248.642455             6.002900                   6.730821   \n",
       "2      61287.067179             5.865890                   8.512727   \n",
       "3      63345.240046             7.188236                   5.586729   \n",
       "4      59982.197226             5.040555                   7.839388   \n",
       "\n",
       "   Avg. Area Number of Bedrooms  Area Population         Price  \\\n",
       "0                          4.09     23086.800503  1.059034e+06   \n",
       "1                          3.09     40173.072174  1.505891e+06   \n",
       "2                          5.13     36882.159400  1.058988e+06   \n",
       "3                          3.26     34310.242831  1.260617e+06   \n",
       "4                          4.23     26354.109472  6.309435e+05   \n",
       "\n",
       "                                             Address  \n",
       "0  208 Michael Ferry Apt. 674\\nLaurabury, NE 3701...  \n",
       "1  188 Johnson Views Suite 079\\nLake Kathleen, CA...  \n",
       "2  9127 Elizabeth Stravenue\\nDanieltown, WI 06482...  \n",
       "3                          USS Barnett\\nFPO AP 44820  \n",
       "4                         USNS Raymond\\nFPO AE 09386  "
      ]
     },
     "execution_count": 5,
     "metadata": {},
     "output_type": "execute_result"
    }
   ],
   "source": [
    "df.head()"
   ]
  },
  {
   "cell_type": "code",
   "execution_count": 6,
   "metadata": {
    "colab": {
     "base_uri": "https://localhost:8080/"
    },
    "id": "yCnS188QgNkc",
    "outputId": "ad57149a-64b3-438e-b067-07a3e011e9c7"
   },
   "outputs": [
    {
     "data": {
      "text/plain": [
       "Avg. Area Income                0\n",
       "Avg. Area House Age             0\n",
       "Avg. Area Number of Rooms       0\n",
       "Avg. Area Number of Bedrooms    0\n",
       "Area Population                 0\n",
       "Price                           0\n",
       "Address                         0\n",
       "dtype: int64"
      ]
     },
     "execution_count": 6,
     "metadata": {},
     "output_type": "execute_result"
    }
   ],
   "source": [
    "df.isna().sum()"
   ]
  },
  {
   "cell_type": "markdown",
   "metadata": {
    "id": "io9GFk65gNkd"
   },
   "source": [
    "Ta nhận thấy dataframe này không bị khuyết dữ liệu"
   ]
  },
  {
   "cell_type": "markdown",
   "metadata": {
    "id": "Hkzn1B6OgNke"
   },
   "source": [
    "Ta sẽ bỏ đi cột `Address` vì trong khuôn khổ bài này ta sẽ không cần gian tâm đến các giá trị đó"
   ]
  },
  {
   "cell_type": "code",
   "execution_count": 7,
   "metadata": {
    "id": "-Be-OKzIgNkf"
   },
   "outputs": [],
   "source": [
    "### BEGIN SOLUTION\n",
    "df = df.drop('Address',axis=1)\n",
    "### END SOLUTION"
   ]
  },
  {
   "cell_type": "code",
   "execution_count": 8,
   "metadata": {
    "id": "C460lAPEgNkg"
   },
   "outputs": [],
   "source": [
    "assert df.shape == (5000, 6)"
   ]
  },
  {
   "cell_type": "markdown",
   "metadata": {
    "id": "LD0fRCoIgNkg"
   },
   "source": [
    "Ở đây ta sẽ dùng `MinMaxScaler` để scale cột `Avg. Area Income` và `Area Population`"
   ]
  },
  {
   "cell_type": "code",
   "execution_count": 9,
   "metadata": {
    "colab": {
     "base_uri": "https://localhost:8080/",
     "height": 424
    },
    "id": "3f4dRSjWgNkg",
    "outputId": "f587dd93-9163-4c7c-8152-d530c99ce1c7"
   },
   "outputs": [
    {
     "data": {
      "text/html": [
       "<div>\n",
       "<style scoped>\n",
       "    .dataframe tbody tr th:only-of-type {\n",
       "        vertical-align: middle;\n",
       "    }\n",
       "\n",
       "    .dataframe tbody tr th {\n",
       "        vertical-align: top;\n",
       "    }\n",
       "\n",
       "    .dataframe thead th {\n",
       "        text-align: right;\n",
       "    }\n",
       "</style>\n",
       "<table border=\"1\" class=\"dataframe\">\n",
       "  <thead>\n",
       "    <tr style=\"text-align: right;\">\n",
       "      <th></th>\n",
       "      <th>Avg. Area Income</th>\n",
       "      <th>Avg. Area House Age</th>\n",
       "      <th>Avg. Area Number of Rooms</th>\n",
       "      <th>Avg. Area Number of Bedrooms</th>\n",
       "      <th>Area Population</th>\n",
       "      <th>Price</th>\n",
       "    </tr>\n",
       "  </thead>\n",
       "  <tbody>\n",
       "    <tr>\n",
       "      <th>0</th>\n",
       "      <td>0.686822</td>\n",
       "      <td>5.682861</td>\n",
       "      <td>7.009188</td>\n",
       "      <td>4.09</td>\n",
       "      <td>0.329942</td>\n",
       "      <td>1.059034e+06</td>\n",
       "    </tr>\n",
       "    <tr>\n",
       "      <th>1</th>\n",
       "      <td>0.683521</td>\n",
       "      <td>6.002900</td>\n",
       "      <td>6.730821</td>\n",
       "      <td>3.09</td>\n",
       "      <td>0.575968</td>\n",
       "      <td>1.505891e+06</td>\n",
       "    </tr>\n",
       "    <tr>\n",
       "      <th>2</th>\n",
       "      <td>0.483737</td>\n",
       "      <td>5.865890</td>\n",
       "      <td>8.512727</td>\n",
       "      <td>5.13</td>\n",
       "      <td>0.528582</td>\n",
       "      <td>1.058988e+06</td>\n",
       "    </tr>\n",
       "    <tr>\n",
       "      <th>3</th>\n",
       "      <td>0.506630</td>\n",
       "      <td>7.188236</td>\n",
       "      <td>5.586729</td>\n",
       "      <td>3.26</td>\n",
       "      <td>0.491549</td>\n",
       "      <td>1.260617e+06</td>\n",
       "    </tr>\n",
       "    <tr>\n",
       "      <th>4</th>\n",
       "      <td>0.469223</td>\n",
       "      <td>5.040555</td>\n",
       "      <td>7.839388</td>\n",
       "      <td>4.23</td>\n",
       "      <td>0.376988</td>\n",
       "      <td>6.309435e+05</td>\n",
       "    </tr>\n",
       "    <tr>\n",
       "      <th>...</th>\n",
       "      <td>...</td>\n",
       "      <td>...</td>\n",
       "      <td>...</td>\n",
       "      <td>...</td>\n",
       "      <td>...</td>\n",
       "      <td>...</td>\n",
       "    </tr>\n",
       "    <tr>\n",
       "      <th>4995</th>\n",
       "      <td>0.475738</td>\n",
       "      <td>7.830362</td>\n",
       "      <td>6.137356</td>\n",
       "      <td>3.46</td>\n",
       "      <td>0.326351</td>\n",
       "      <td>1.060194e+06</td>\n",
       "    </tr>\n",
       "    <tr>\n",
       "      <th>4996</th>\n",
       "      <td>0.675097</td>\n",
       "      <td>6.999135</td>\n",
       "      <td>6.576763</td>\n",
       "      <td>4.02</td>\n",
       "      <td>0.366362</td>\n",
       "      <td>1.482618e+06</td>\n",
       "    </tr>\n",
       "    <tr>\n",
       "      <th>4997</th>\n",
       "      <td>0.507135</td>\n",
       "      <td>7.250591</td>\n",
       "      <td>4.805081</td>\n",
       "      <td>2.13</td>\n",
       "      <td>0.476515</td>\n",
       "      <td>1.030730e+06</td>\n",
       "    </tr>\n",
       "    <tr>\n",
       "      <th>4998</th>\n",
       "      <td>0.558419</td>\n",
       "      <td>5.534388</td>\n",
       "      <td>7.130144</td>\n",
       "      <td>5.44</td>\n",
       "      <td>0.611282</td>\n",
       "      <td>1.198657e+06</td>\n",
       "    </tr>\n",
       "    <tr>\n",
       "      <th>4999</th>\n",
       "      <td>0.530715</td>\n",
       "      <td>5.992305</td>\n",
       "      <td>6.792336</td>\n",
       "      <td>4.07</td>\n",
       "      <td>0.667088</td>\n",
       "      <td>1.298950e+06</td>\n",
       "    </tr>\n",
       "  </tbody>\n",
       "</table>\n",
       "<p>5000 rows × 6 columns</p>\n",
       "</div>"
      ],
      "text/plain": [
       "      Avg. Area Income  Avg. Area House Age  Avg. Area Number of Rooms  \\\n",
       "0             0.686822             5.682861                   7.009188   \n",
       "1             0.683521             6.002900                   6.730821   \n",
       "2             0.483737             5.865890                   8.512727   \n",
       "3             0.506630             7.188236                   5.586729   \n",
       "4             0.469223             5.040555                   7.839388   \n",
       "...                ...                  ...                        ...   \n",
       "4995          0.475738             7.830362                   6.137356   \n",
       "4996          0.675097             6.999135                   6.576763   \n",
       "4997          0.507135             7.250591                   4.805081   \n",
       "4998          0.558419             5.534388                   7.130144   \n",
       "4999          0.530715             5.992305                   6.792336   \n",
       "\n",
       "      Avg. Area Number of Bedrooms  Area Population         Price  \n",
       "0                             4.09         0.329942  1.059034e+06  \n",
       "1                             3.09         0.575968  1.505891e+06  \n",
       "2                             5.13         0.528582  1.058988e+06  \n",
       "3                             3.26         0.491549  1.260617e+06  \n",
       "4                             4.23         0.376988  6.309435e+05  \n",
       "...                            ...              ...           ...  \n",
       "4995                          3.46         0.326351  1.060194e+06  \n",
       "4996                          4.02         0.366362  1.482618e+06  \n",
       "4997                          2.13         0.476515  1.030730e+06  \n",
       "4998                          5.44         0.611282  1.198657e+06  \n",
       "4999                          4.07         0.667088  1.298950e+06  \n",
       "\n",
       "[5000 rows x 6 columns]"
      ]
     },
     "execution_count": 9,
     "metadata": {},
     "output_type": "execute_result"
    }
   ],
   "source": [
    "from sklearn.model_selection import train_test_split\n",
    "from sklearn.preprocessing import MinMaxScaler\n",
    "\n",
    "scale = MinMaxScaler()\n",
    "df['Avg. Area Income'] = scale.fit_transform(np.array(df['Avg. Area Income']).reshape(-1, 1))\n",
    "df['Area Population'] = scale.fit_transform(np.array(df['Area Population']).reshape(-1, 1))\n",
    "df"
   ]
  },
  {
   "cell_type": "markdown",
   "metadata": {
    "id": "C-G7z8ImgNkh"
   },
   "source": [
    "Tiếp đến ta sẽ chia dữ liệu thành tập train và test bằng `train_test_split`\n",
    "* Ta gán biến `y` bằng dữ liệu ở cột `Price`\n",
    "* Ta gán biến `x` là dữ liệu ở tất cả các cột còn lại\n",
    "* Sau đó dùng `train_test_split` để chia **x_train, x_test, y_train, y_test = .......** với `random_state=42, test_size=0.01 (điều này có nghĩa 99% dữ liệu ban đầu sẽ dành để huấn luyện và phần còn lại sẽ dùng để kiểm tra)`"
   ]
  },
  {
   "cell_type": "code",
   "execution_count": 10,
   "metadata": {
    "id": "scQA6xRNgNkh"
   },
   "outputs": [],
   "source": [
    "### BEGIN SOLUTION\n",
    "y = df['Price']\n",
    "x = df.drop('Price',axis=1)\n",
    "x_train,x_test,y_train,y_test = train_test_split(x,y,test_size=0.01,random_state=42)\n",
    "\n",
    "\n",
    "\n",
    "### END SOLUTION"
   ]
  },
  {
   "cell_type": "markdown",
   "metadata": {
    "id": "Lcv4otA8vSx-"
   },
   "source": [
    "### 2. Huấn luyện và đánh giá mô hình"
   ]
  },
  {
   "cell_type": "markdown",
   "metadata": {
    "id": "E8nIQI-lvYcQ"
   },
   "source": [
    "#### 2.1 Mô hình Linear Regression"
   ]
  },
  {
   "cell_type": "markdown",
   "metadata": {
    "id": "VL7D3g_LgNki"
   },
   "source": [
    "Để dùng mô hình Linear Regression ta cần\n",
    "* Khởi tạo một đối tượng mô hình `LinearRegression` và gán nó cho biến `li_r = ......`\n",
    "* Sau đó huấn luyện mô hình khởi tạo trước đó sử dụng dữ liệu `x_train`, `y_train`\n",
    "* Predict ra kết quả của `x_test` và gán vào biến `pred_li = .......`"
   ]
  },
  {
   "cell_type": "code",
   "execution_count": 11,
   "metadata": {
    "colab": {
     "base_uri": "https://localhost:8080/",
     "height": 471
    },
    "id": "3ybLtVB7gNki",
    "outputId": "1a88a759-208f-42e1-afa1-a8126f88475a"
   },
   "outputs": [
    {
     "data": {
      "text/plain": [
       "<matplotlib.legend.Legend at 0x226e311b880>"
      ]
     },
     "execution_count": 11,
     "metadata": {},
     "output_type": "execute_result"
    },
    {
     "data": {
      "image/png": "[encoded data removed]",
      "text/plain": [
       "<Figure size 640x480 with 1 Axes>"
      ]
     },
     "metadata": {},
     "output_type": "display_data"
    }
   ],
   "source": [
    "### BEGIN SOLUTION\n",
    "li_r = LinearRegression()\n",
    "li_r.fit(x_train,y_train)\n",
    "pred_li = li_r.predict(x_test)\n",
    "### END SOLUTION\n",
    "\n",
    "import matplotlib.pyplot as plt\n",
    "\n",
    "plt.scatter(y_test, pred_li, c='blue', label='Dữ liệu thực tế')\n",
    "plt.scatter(pred_li, y_test, c='red', label='Dự đoán')\n",
    "\n",
    "plt.plot([min(y_test), max(y_test)], [min(y_test), max(y_test)], linestyle='-')\n",
    "plt.plot([min(pred_li), max(pred_li)], [min(pred_li), max(pred_li)], linestyle='-')\n",
    "plt.title(\"So sánh Dự đoán và Thực tế\")\n",
    "plt.legend()"
   ]
  },
  {
   "cell_type": "markdown",
   "metadata": {
    "id": "V1QoLUYBgNkj"
   },
   "source": [
    "Đây là phân bố của dữ liệu đã dự đoán và thực tế\n",
    "\n",
    "Quá trình so sánh giữa `predict` và `thực tế` gọi là validation"
   ]
  },
  {
   "cell_type": "markdown",
   "metadata": {
    "id": "XN8QITK5gNkk"
   },
   "source": [
    "Ở bước này, ta cần tính độ đo `MSE` bằng hàm `mean_squared_error` và gán vào biến `mse_li`"
   ]
  },
  {
   "cell_type": "code",
   "execution_count": 12,
   "metadata": {
    "colab": {
     "base_uri": "https://localhost:8080/"
    },
    "id": "jgNn8AmqgNkk",
    "outputId": "f344d3ce-93e6-45b5-a0d2-bd0cd70bba55"
   },
   "outputs": [
    {
     "data": {
      "text/plain": [
       "9405950502.28123"
      ]
     },
     "execution_count": 12,
     "metadata": {},
     "output_type": "execute_result"
    }
   ],
   "source": [
    "### BEGIN SOLUTION\n",
    "mse_li = mean_squared_error(y_test,pred_li)\n",
    "### END SOLUTION\n",
    "mse_li"
   ]
  },
  {
   "cell_type": "markdown",
   "metadata": {
    "id": "pOc9zD7RgNkl"
   },
   "source": [
    "Và ta cũng có thể tính độ đo `MAE` bằng hàm `mean_absolute_error` và gán vào biến `mae_li`"
   ]
  },
  {
   "cell_type": "code",
   "execution_count": 13,
   "metadata": {
    "id": "AcFY4ld5gNkl"
   },
   "outputs": [],
   "source": [
    "### BEGIN SOLUTION\n",
    "mae_li = mean_absolute_error(y_test,pred_li)\n",
    "### END SOLUTION"
   ]
  },
  {
   "cell_type": "markdown",
   "metadata": {
    "id": "WFoZ_mB8vgXX"
   },
   "source": [
    "#### 2.2 Mô hình Decision Tree Regressor"
   ]
  },
  {
   "cell_type": "markdown",
   "metadata": {
    "id": "PkU4p_rzgNkl"
   },
   "source": [
    "Tiếp đến là một mô hình regression khác đó là `DecisionTreeRegressor`\n",
    "* Cũng giống mô hình Linear Regression, đầu tiên ta cần khởi tạo đối tượng `DecisionTreeRegressor` và gán vào biến `de_r`\n",
    "* Tiếp đến ta `fit` `x_train và y_train` ở trên vào mô hình\n",
    "* Ta dùng phương thức `predict` của mô hình để predict `x_test` và gán vào biến `pred_tree`"
   ]
  },
  {
   "cell_type": "code",
   "execution_count": 14,
   "metadata": {
    "colab": {
     "base_uri": "https://localhost:8080/",
     "height": 471
    },
    "id": "phuRJoTtgNkl",
    "outputId": "bcdb01c9-e0e0-49d3-a369-7847917a3efc"
   },
   "outputs": [
    {
     "data": {
      "text/plain": [
       "<matplotlib.legend.Legend at 0x226e31190c0>"
      ]
     },
     "execution_count": 14,
     "metadata": {},
     "output_type": "execute_result"
    },
    {
     "data": {
      "image/png": "[encoded data removed]",
      "text/plain": [
       "<Figure size 640x480 with 1 Axes>"
      ]
     },
     "metadata": {},
     "output_type": "display_data"
    }
   ],
   "source": [
    "### BEGIN SOLUTION\n",
    "de_r = DecisionTreeRegressor()\n",
    "de_r.fit(x_train,y_train)\n",
    "pred_tree = de_r.predict(x_test)\n",
    "### END SOLUTION\n",
    "import matplotlib.pyplot as plt\n",
    "\n",
    "plt.scatter(y_test, pred_tree, c='blue', label='Dữ liệu thực tế')\n",
    "plt.scatter(pred_tree, y_test, c='red', label='Dự đoán')\n",
    "\n",
    "plt.plot([min(y_test), max(y_test)], [min(y_test), max(y_test)], linestyle='-', color ='red')\n",
    "plt.plot([min(pred_tree), max(pred_tree)], [min(pred_tree), max(pred_tree)], linestyle='-', color ='blue')\n",
    "plt.title(\"So sánh Dự đoán và Thực tế\")\n",
    "plt.legend()"
   ]
  },
  {
   "cell_type": "markdown",
   "metadata": {
    "id": "G_MgYvZzgNkm"
   },
   "source": [
    "Tương tự như trên, ta tính độ đo `MSE` và gán vào biến `mse_tree`"
   ]
  },
  {
   "cell_type": "code",
   "execution_count": 15,
   "metadata": {
    "colab": {
     "base_uri": "https://localhost:8080/"
    },
    "id": "R08ZPnOYgNkm",
    "outputId": "59175f11-b070-4564-8629-52bcc0b47754"
   },
   "outputs": [
    {
     "data": {
      "text/plain": [
       "34201780085.58606"
      ]
     },
     "execution_count": 15,
     "metadata": {},
     "output_type": "execute_result"
    }
   ],
   "source": [
    "### BEGIN SOLUTION\n",
    "mse_tree = mean_squared_error(y_test,pred_tree)\n",
    "### END SOLUTION\n",
    "mse_tree"
   ]
  },
  {
   "cell_type": "markdown",
   "metadata": {
    "id": "nEh5Bib6gNkm"
   },
   "source": [
    "Tương tự như trên, ta tính độ đo `MAE` và gán vào biến `mae_tree`"
   ]
  },
  {
   "cell_type": "code",
   "execution_count": 16,
   "metadata": {
    "colab": {
     "base_uri": "https://localhost:8080/"
    },
    "id": "LUnr4WDJgNkn",
    "outputId": "6a41a5ba-cb3c-4607-d37f-4afc89db8d3f"
   },
   "outputs": [
    {
     "data": {
      "text/plain": [
       "147530.89203945897"
      ]
     },
     "execution_count": 16,
     "metadata": {},
     "output_type": "execute_result"
    }
   ],
   "source": [
    "### BEGIN SOLUTION\n",
    "mae_tree = mean_absolute_error(y_test,pred_tree)\n",
    "### END SOLUTION\n",
    "mae_tree"
   ]
  },
  {
   "cell_type": "markdown",
   "metadata": {
    "id": "D4Y4_xSSvpGk"
   },
   "source": [
    "#### 2.3 Mô hình Support Vector Regression (SVR)"
   ]
  },
  {
   "cell_type": "markdown",
   "metadata": {
    "id": "Xo0HpKavgNkn"
   },
   "source": [
    "Tiếp đến là một mô hình regression khác đó là `SVR`\n",
    "* Cũng giống các mô hình trên, đầu tiên ta cần khởi tạo đối tượng `SVR` và gán vào biến `svr`\n",
    "* Tiếp đến ta `fit` `x_train và y_train` ở trên vào mô hình\n",
    "* Ta dùng phương thức `predict` của mô hình để predict `x_test` và gán vào biến `pred_svr`"
   ]
  },
  {
   "cell_type": "code",
   "execution_count": 19,
   "metadata": {
    "colab": {
     "base_uri": "https://localhost:8080/",
     "height": 471
    },
    "id": "32tt5XjfgNkn",
    "outputId": "1114b5e0-97ea-4824-9336-df072dfb7281"
   },
   "outputs": [
    {
     "data": {
      "text/plain": [
       "<matplotlib.legend.Legend at 0x226b70ef9d0>"
      ]
     },
     "execution_count": 19,
     "metadata": {},
     "output_type": "execute_result"
    },
    {
     "data": {
      "image/png": "[encoded data removed]",
      "text/plain": [
       "<Figure size 640x480 with 1 Axes>"
      ]
     },
     "metadata": {},
     "output_type": "display_data"
    }
   ],
   "source": [
    "### BEGIN SOLUTION\n",
    "svr = SVR()\n",
    "svr.fit(x_train,y_train)\n",
    "pred_svr= svr.predict(x_test)\n",
    "### END SOLUTION\n",
    "import matplotlib.pyplot as plt\n",
    "\n",
    "plt.scatter(y_test, pred_svr, c='blue', label='Dữ liệu thực tế')\n",
    "plt.scatter(pred_svr, y_test, c='red', label='Dự đoán')\n",
    "\n",
    "plt.plot([min(y_test), max(y_test)], [min(y_test), max(y_test)], linestyle='-', color ='red')\n",
    "plt.plot([min(pred_svr), max(pred_svr)], [min(pred_svr), max(pred_svr)], linestyle='-', color ='blue')\n",
    "plt.title(\"So sánh Dự đoán và Thực tế\")\n",
    "plt.legend()"
   ]
  },
  {
   "cell_type": "markdown",
   "metadata": {
    "id": "fhlniMWZgNko"
   },
   "source": [
    "Tương tự ở đây ta sẽ tính độ đo `MSE` và gán vào biến `mse_svr`"
   ]
  },
  {
   "cell_type": "code",
   "execution_count": 20,
   "metadata": {
    "colab": {
     "base_uri": "https://localhost:8080/"
    },
    "id": "mTaW9kKKgNko",
    "outputId": "22e4f519-124d-47bd-c4f6-a50f75f0784a"
   },
   "outputs": [
    {
     "data": {
      "text/plain": [
       "93305056656.22443"
      ]
     },
     "execution_count": 20,
     "metadata": {},
     "output_type": "execute_result"
    }
   ],
   "source": [
    "### BEGIN SOLUTION\n",
    "mse_svr = mean_squared_error(y_test,pred_svr)\n",
    "### END SOLUTION\n",
    "mse_svr"
   ]
  },
  {
   "cell_type": "markdown",
   "metadata": {
    "id": "JNupYQZugNkp"
   },
   "source": [
    "Và độ đo `MAE` và gán vào biến `mae_svr`"
   ]
  },
  {
   "cell_type": "code",
   "execution_count": 21,
   "metadata": {
    "colab": {
     "base_uri": "https://localhost:8080/"
    },
    "id": "gak5_D5agNkq",
    "outputId": "9baa3893-70cc-45b6-a1a0-b6d3e81ebb4c"
   },
   "outputs": [
    {
     "data": {
      "text/plain": [
       "256152.25430667962"
      ]
     },
     "execution_count": 21,
     "metadata": {},
     "output_type": "execute_result"
    }
   ],
   "source": [
    "### BEGIN SOLUTION\n",
    "mae_svr = mean_absolute_error(y_test,pred_svr)\n",
    "### END SOLUTION\n",
    "mae_svr"
   ]
  },
  {
   "cell_type": "markdown",
   "metadata": {
    "id": "G5IKUyGCvwi9"
   },
   "source": [
    "#### 2.4 Mô hình K-Neighbors Regressor"
   ]
  },
  {
   "cell_type": "markdown",
   "metadata": {
    "id": "IIgxHg4IgNkq"
   },
   "source": [
    "Mô hình cuối cùng ta tìm hiểu trong bài này đó là `KNRegressor`\n",
    "* Đầu tiên ta cần khởi tạo đối tượng mô hình `KNeighborsRegressor` với tham số `n_neighbors=5` và gán vào biến `knr`\n",
    "* Sau đó ta `fit` và `predict` như ở trên và gán vào biến `pred_knr`"
   ]
  },
  {
   "cell_type": "code",
   "execution_count": 22,
   "metadata": {
    "colab": {
     "base_uri": "https://localhost:8080/",
     "height": 471
    },
    "id": "FNf80TKcgNkq",
    "outputId": "b7852e4a-a071-4fef-e295-a65b3d594261"
   },
   "outputs": [
    {
     "data": {
      "text/plain": [
       "<matplotlib.legend.Legend at 0x226e8407850>"
      ]
     },
     "execution_count": 22,
     "metadata": {},
     "output_type": "execute_result"
    },
    {
     "data": {
      "image/png": "[encoded data removed]",
      "text/plain": [
       "<Figure size 640x480 with 1 Axes>"
      ]
     },
     "metadata": {},
     "output_type": "display_data"
    }
   ],
   "source": [
    "### BEGIN SOLUTION\n",
    "knr = KNeighborsRegressor()\n",
    "knr.fit(x_train,y_train)\n",
    "pred_knr = knr.predict(x_test)\n",
    "### END SOLUTION\n",
    "\n",
    "plt.scatter(y_test, pred_knr, c='blue', label='Dữ liệu thực tế')\n",
    "plt.scatter(pred_knr, y_test, c='red', label='Dự đoán')\n",
    "plt.plot([min(y_test), max(y_test)], [min(y_test), max(y_test)], linestyle='-', color ='red')\n",
    "plt.plot([min(pred_knr), max(pred_knr)], [min(pred_knr), max(pred_knr)], linestyle='-', color ='blue')\n",
    "plt.title(\"So sánh Dự đoán và Thực tế\")\n",
    "plt.legend()"
   ]
  },
  {
   "cell_type": "markdown",
   "metadata": {
    "id": "YkZrKf8AgNkr"
   },
   "source": [
    "Ta tiếp tục tính 2 độ đo `MSE` và `MAE` và lần lượt gán vào 2 biến `mse_knn` và `mae_knn`"
   ]
  },
  {
   "cell_type": "code",
   "execution_count": 23,
   "metadata": {
    "colab": {
     "base_uri": "https://localhost:8080/"
    },
    "id": "0g8P4r9PgNkr",
    "outputId": "7564c88a-7fc0-4489-e04b-dd96de2bb1e5"
   },
   "outputs": [
    {
     "data": {
      "text/plain": [
       "34373343769.55536"
      ]
     },
     "execution_count": 23,
     "metadata": {},
     "output_type": "execute_result"
    }
   ],
   "source": [
    "### BEGIN SOLUTION\n",
    "mse_knr = mean_squared_error(y_test,pred_knr)\n",
    "### END SOLUTION\n",
    "mse_knr"
   ]
  },
  {
   "cell_type": "code",
   "execution_count": 24,
   "metadata": {
    "colab": {
     "base_uri": "https://localhost:8080/"
    },
    "id": "F0Zs0TJfgNkr",
    "outputId": "19d4e606-96c8-4241-fe35-fccb7cd37c85"
   },
   "outputs": [
    {
     "data": {
      "text/plain": [
       "143461.55096352854"
      ]
     },
     "execution_count": 24,
     "metadata": {},
     "output_type": "execute_result"
    }
   ],
   "source": [
    "### BEGIN SOLUTION\n",
    "mae_knr = mean_absolute_error(y_test,pred_knr)\n",
    "### END SOLUTION\n",
    "mae_knr"
   ]
  },
  {
   "cell_type": "markdown",
   "metadata": {
    "id": "vOigsgk_v56P"
   },
   "source": [
    "### 3. So sánh kết quả các mô hình"
   ]
  },
  {
   "cell_type": "code",
   "execution_count": 25,
   "metadata": {
    "colab": {
     "base_uri": "https://localhost:8080/",
     "height": 1000
    },
    "id": "1_uLUKOKgNkr",
    "outputId": "97e15296-23a3-458e-fa90-8751b6401887"
   },
   "outputs": [
    {
     "data": {
      "image/png": "[encoded data removed]",
      "text/plain": [
       "<Figure size 1200x1200 with 2 Axes>"
      ]
     },
     "metadata": {},
     "output_type": "display_data"
    }
   ],
   "source": [
    "import seaborn as sns\n",
    "mse = [mse_li, mse_tree, mse_svr, mse_knr]\n",
    "mae = [mae_li, mae_tree, mae_svr, mae_knr]\n",
    "label = ['Linear Regression', 'Decision Tree Regressor', 'SVR', 'KNeighbors Regressor']\n",
    "fig, ax = plt.subplots(1, 2, figsize=(12, 12))\n",
    "sns.barplot(x=label, y=mse, ax=ax[0])\n",
    "ax[0].set_title('MSE')\n",
    "sns.barplot(x=label, y=mae, ax=ax[-1])\n",
    "ax[1].set_title('MAE')\n",
    "plt.tight_layout()"
   ]
  },
  {
   "cell_type": "markdown",
   "metadata": {
    "id": "mH-trN47gNks"
   },
   "source": [
    "Qua biểu đồ trên, ta có thể thấy được với dữ liệu này thì mô hình `Linear Regression` sẽ cho kết quả tốt nhất trong 4 mô hình"
   ]
  }
 ],
 "metadata": {
  "colab": {
   "provenance": []
  },
  "kernelspec": {
   "display_name": "Python 3 (ipykernel)",
   "language": "python",
   "name": "python3"
  },
  "language_info": {
   "codemirror_mode": {
    "name": "ipython",
    "version": 3
   },
   "file_extension": ".py",
   "mimetype": "text/x-python",
   "name": "python",
   "nbconvert_exporter": "python",
   "pygments_lexer": "ipython3",
   "version": "3.10.9"
  }
 },
 "nbformat": 4,
 "nbformat_minor": 4
}
